{
 "cells": [
  {
   "cell_type": "markdown",
   "metadata": {},
   "source": [
    "# Analysis of the *Installed* Dataset\n",
    "### Question 1: *Merge the filtered rows (from question 1-3) from the Licence dataset with the installed elevators. How many rows are merged from each dataset ? How many rows does the merged dataset have ?*"
   ]
  },
  {
   "cell_type": "code",
   "execution_count": 2,
   "metadata": {},
   "outputs": [
    {
     "name": "stdout",
     "output_type": "stream",
     "text": [
      "Amount of rows in the merged dataset: 42665\n"
     ]
    }
   ],
   "source": [
    "import pandas as pd\n",
    "license = pd.read_csv(\"../data/raw/licence.csv\")\n",
    "installed = pd.read_json(\"../data/raw/installed.json\")\n",
    "for df in [installed, license]:\n",
    "    df.columns = df.columns.str.upper()\n",
    "    df.columns = df.columns.str.replace(' ', '')\n",
    "\n",
    "activeLicense = license[license[\"LICENSESTATUS\"] == \"ACTIVE\"]\n",
    "merged = pd.merge(activeLicense, installed, on='ELEVATINGDEVICESNUMBER')\n",
    "print('Amount of rows in the merged dataset: ' + str(len(merged))) "
   ]
  },
  {
   "cell_type": "markdown",
   "metadata": {},
   "source": [
    "### Conclusion: *We can now see the amount of rows in the merged dataset. If my understanding is correct we got all rows from the* license *dataset and 42665 rows from the* installed *set.*\n",
    "- - - "
   ]
  },
  {
   "cell_type": "markdown",
   "metadata": {},
   "source": [
    "### Question 2: *Both datasets have a variable about the location of the elevator. Show the observations where both variables are not equal. What do you notice ?*"
   ]
  },
  {
   "cell_type": "code",
   "execution_count": 8,
   "metadata": {},
   "outputs": [
    {
     "name": "stdout",
     "output_type": "stream",
     "text": [
      "100.0% of rows are different.\n"
     ]
    }
   ],
   "source": [
    "import numpy as np\n",
    "diff = merged.loc[merged[\"LOCATIONOFTHEELEVATINGDEVICE\"] != merged[\"LICENSEHOLDERADDRESS\"]]\n",
    "print(str(len(diff) * 100 / len(merged)) + '% of rows are different.')"
   ]
  },
  {
   "cell_type": "code",
   "execution_count": 12,
   "metadata": {},
   "outputs": [
    {
     "ename": "AttributeError",
     "evalue": "'float' object has no attribute 'replace'",
     "output_type": "error",
     "traceback": [
      "\u001b[0;31m---------------------------------------------------------------------------\u001b[0m",
      "\u001b[0;31mAttributeError\u001b[0m                            Traceback (most recent call last)",
      "\u001b[1;32m/home/mathieuhoude/source/MathieuHoude/smartjourney-week1/notebooks/Installed.ipynb Cell 6'\u001b[0m in \u001b[0;36m<cell line: 2>\u001b[0;34m()\u001b[0m\n\u001b[1;32m      <a href='vscode-notebook-cell://wsl%2Bubuntu-20.04/home/mathieuhoude/source/MathieuHoude/smartjourney-week1/notebooks/Installed.ipynb#ch0000005vscode-remote?line=0'>1</a>\u001b[0m diff\n\u001b[0;32m----> <a href='vscode-notebook-cell://wsl%2Bubuntu-20.04/home/mathieuhoude/source/MathieuHoude/smartjourney-week1/notebooks/Installed.ipynb#ch0000005vscode-remote?line=1'>2</a>\u001b[0m diff[\u001b[39m'\u001b[39m\u001b[39mC\u001b[39m\u001b[39m'\u001b[39m] \u001b[39m=\u001b[39m [i\u001b[39m.\u001b[39mreplace(j, \u001b[39m'\u001b[39m\u001b[39m'\u001b[39m)\u001b[39m.\u001b[39mstrip(\u001b[39m'\u001b[39m\u001b[39m()\u001b[39m\u001b[39m'\u001b[39m) \u001b[39mfor\u001b[39;00m i, j \u001b[39min\u001b[39;00m \u001b[39mzip\u001b[39m(diff[\u001b[39m\"\u001b[39m\u001b[39mLOCATIONOFTHEELEVATINGDEVICE\u001b[39m\u001b[39m\"\u001b[39m], diff[\u001b[39m\"\u001b[39m\u001b[39mLICENSEHOLDERADDRESS\u001b[39m\u001b[39m\"\u001b[39m])]\n",
      "\u001b[1;32m/home/mathieuhoude/source/MathieuHoude/smartjourney-week1/notebooks/Installed.ipynb Cell 6'\u001b[0m in \u001b[0;36m<listcomp>\u001b[0;34m(.0)\u001b[0m\n\u001b[1;32m      <a href='vscode-notebook-cell://wsl%2Bubuntu-20.04/home/mathieuhoude/source/MathieuHoude/smartjourney-week1/notebooks/Installed.ipynb#ch0000005vscode-remote?line=0'>1</a>\u001b[0m diff\n\u001b[0;32m----> <a href='vscode-notebook-cell://wsl%2Bubuntu-20.04/home/mathieuhoude/source/MathieuHoude/smartjourney-week1/notebooks/Installed.ipynb#ch0000005vscode-remote?line=1'>2</a>\u001b[0m diff[\u001b[39m'\u001b[39m\u001b[39mC\u001b[39m\u001b[39m'\u001b[39m] \u001b[39m=\u001b[39m [i\u001b[39m.\u001b[39;49mreplace(j, \u001b[39m'\u001b[39m\u001b[39m'\u001b[39m)\u001b[39m.\u001b[39mstrip(\u001b[39m'\u001b[39m\u001b[39m()\u001b[39m\u001b[39m'\u001b[39m) \u001b[39mfor\u001b[39;00m i, j \u001b[39min\u001b[39;00m \u001b[39mzip\u001b[39m(diff[\u001b[39m\"\u001b[39m\u001b[39mLOCATIONOFTHEELEVATINGDEVICE\u001b[39m\u001b[39m\"\u001b[39m], diff[\u001b[39m\"\u001b[39m\u001b[39mLICENSEHOLDERADDRESS\u001b[39m\u001b[39m\"\u001b[39m])]\n",
      "\u001b[0;31mAttributeError\u001b[0m: 'float' object has no attribute 'replace'"
     ]
    }
   ],
   "source": [
    "diff\n",
    "# diff['C'] = [i.replace(j, '').strip('()') for i, j in zip(diff[\"LOCATIONOFTHEELEVATINGDEVICE\"], diff[\"LICENSEHOLDERADDRESS\"])]\n",
    "# diff['C']=diff[\"LOCATIONOFTHEELEVATINGDEVICE\"].replace(regex=r'\\('+ diff[\"LICENSEHOLDERADDRESS\"] +r'\\)',value=\"\")"
   ]
  }
 ],
 "metadata": {
  "interpreter": {
   "hash": "e426859dfe37db70322db5e65b0ddc90a5bd9bf424cc3f72085efb4fb4ebc178"
  },
  "kernelspec": {
   "display_name": "Python 3.9.11 64-bit ('3.9.11')",
   "language": "python",
   "name": "python3"
  },
  "language_info": {
   "codemirror_mode": {
    "name": "ipython",
    "version": 3
   },
   "file_extension": ".py",
   "mimetype": "text/x-python",
   "name": "python",
   "nbconvert_exporter": "python",
   "pygments_lexer": "ipython3",
   "version": "3.9.11"
  },
  "orig_nbformat": 4
 },
 "nbformat": 4,
 "nbformat_minor": 2
}
